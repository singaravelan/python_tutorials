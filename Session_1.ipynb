{
  "cells": [
    {
      "cell_type": "markdown",
      "metadata": {
        "id": "view-in-github",
        "colab_type": "text"
      },
      "source": [
        "<a href=\"https://colab.research.google.com/github/singaravelan/python_tutorials/blob/main/Session_1.ipynb\" target=\"_parent\"><img src=\"https://colab.research.google.com/assets/colab-badge.svg\" alt=\"Open In Colab\"/></a>"
      ]
    },
    {
      "cell_type": "markdown",
      "id": "b0dd2edb",
      "metadata": {
        "id": "b0dd2edb"
      },
      "source": [
        "# Python Basics Tutorial\n",
        "This notebook covers some basic Python concepts."
      ]
    },
    {
      "cell_type": "markdown",
      "id": "28bd3e50",
      "metadata": {
        "id": "28bd3e50"
      },
      "source": [
        "## 1. Variables and Data Types\n",
        "Python supports various data types such as integers, floats, strings, and booleans."
      ]
    },
    {
      "cell_type": "code",
      "execution_count": null,
      "id": "e0b94de3",
      "metadata": {
        "id": "e0b94de3"
      },
      "outputs": [],
      "source": [
        "# Integer\n",
        "x = 10\n",
        "print(\"Integer:\", x)\n",
        "\n",
        "# Float\n",
        "y = 20.5\n",
        "print(\"Float:\", y)\n",
        "\n",
        "# String\n",
        "name = \"Python\"\n",
        "print(\"String:\", name)\n",
        "\n",
        "# Boolean\n",
        "is_fun = True\n",
        "print(\"Boolean:\", is_fun)"
      ]
    },
    {
      "cell_type": "markdown",
      "id": "7cb7babf",
      "metadata": {
        "id": "7cb7babf"
      },
      "source": [
        "## 2. Lists\n",
        "Lists are ordered, mutable collections of items."
      ]
    },
    {
      "cell_type": "code",
      "execution_count": null,
      "id": "736703d2",
      "metadata": {
        "id": "736703d2"
      },
      "outputs": [],
      "source": [
        "fruits = [\"apple\", \"banana\", \"cherry\"]\n",
        "print(\"List:\", fruits)\n",
        "\n",
        "# Accessing elements\n",
        "print(\"First fruit:\",)\n",
        "\n",
        "# Adding elements\n",
        "fruits.\n",
        "print(\"Updated List:\", fruits)"
      ]
    },
    {
      "cell_type": "markdown",
      "id": "c0068cfc",
      "metadata": {
        "id": "c0068cfc"
      },
      "source": [
        "## 3. Dictionaries\n",
        "Dictionaries store key-value pairs."
      ]
    },
    {
      "cell_type": "code",
      "execution_count": null,
      "id": "fa360d00",
      "metadata": {
        "id": "fa360d00"
      },
      "outputs": [],
      "source": [
        "person = {\n",
        "    \"name\": \"Alice\",\n",
        "    \"age\": 25,\n",
        "    \"city\": \"New York\"\n",
        "}\n",
        "print(\"Dictionary:\", person)\n",
        "\n",
        "# Accessing values\n",
        "\n",
        "\n",
        "# Adding new key-value pairs\n",
        "person[\"email\"] =\n",
        "print(\"Updated Dictionary:\", person)"
      ]
    },
    {
      "cell_type": "markdown",
      "id": "76dc5a00",
      "metadata": {
        "id": "76dc5a00"
      },
      "source": [
        "## 4. Control Flow\n",
        "Python supports `if`, `else`, and loops like `for` and `while`."
      ]
    },
    {
      "cell_type": "code",
      "execution_count": null,
      "id": "fff663d8",
      "metadata": {
        "lines_to_next_cell": 1,
        "id": "fff663d8"
      },
      "outputs": [],
      "source": [
        "# If-Else\n",
        "age = 18\n",
        "if age >= 18:\n",
        "    print(\"You are an adult.\")\n",
        "else:\n",
        "    print(\"You are a minor.\")\n",
        "\n",
        "# For Loop\n",
        "for fruit in fruits:\n",
        "    print(\"Fruit:\", fruit)\n",
        "\n",
        "# While Loop\n",
        "count = 0\n",
        "while count < 3:\n",
        "    print(\"Count:\", count)\n",
        "    count += 1"
      ]
    },
    {
      "cell_type": "markdown",
      "id": "2196a4e0",
      "metadata": {
        "id": "2196a4e0"
      },
      "source": [
        "## 5. Functions\n",
        "Functions are reusable blocks of code."
      ]
    },
    {
      "cell_type": "code",
      "execution_count": null,
      "id": "29c8f15d",
      "metadata": {
        "lines_to_next_cell": 1,
        "id": "29c8f15d"
      },
      "outputs": [],
      "source": [
        "def greet(name):\n",
        "    return f\"Hello, {name}!\"\n",
        "\n",
        "print(greet(\"Alice\"))"
      ]
    },
    {
      "cell_type": "markdown",
      "id": "9892d629",
      "metadata": {
        "id": "9892d629"
      },
      "source": [
        "## 6. Classes and Objects\n",
        "Python is an object-oriented programming language."
      ]
    },
    {
      "cell_type": "code",
      "execution_count": null,
      "id": "8b6b1621",
      "metadata": {
        "id": "8b6b1621"
      },
      "outputs": [],
      "source": [
        "class Dog:\n",
        "    def __init__(self, name, age):\n",
        "        self.name = name\n",
        "        self.age = age\n",
        "\n",
        "    def bark(self):\n",
        "        return f\"{self.name} says woof!\"\n",
        "\n",
        "# Creating an object\n",
        "my_dog = Dog(\"Buddy\", 3)\n",
        "print(my_dog.bark())"
      ]
    },
    {
      "cell_type": "markdown",
      "id": "060915b7",
      "metadata": {
        "id": "060915b7"
      },
      "source": [
        "## 7. File Handling\n",
        "Reading and writing files in Python."
      ]
    },
    {
      "cell_type": "code",
      "execution_count": null,
      "id": "6a8ac234",
      "metadata": {
        "id": "6a8ac234"
      },
      "outputs": [],
      "source": [
        "# Writing to a file\n",
        "with open(\"example.txt\", \"w\") as file:\n",
        "    file.write(\"Hello, World!\")\n",
        "\n",
        "# Reading from a file\n",
        "with open(\"example.txt\", \"r\") as file:\n",
        "    content = file.read()\n",
        "    print(\"File Content:\", content)"
      ]
    },
    {
      "cell_type": "markdown",
      "id": "949b8116",
      "metadata": {
        "id": "949b8116"
      },
      "source": [
        "## 8. Error Handling\n",
        "Using try-except blocks to handle errors."
      ]
    },
    {
      "cell_type": "code",
      "execution_count": null,
      "id": "1cca203a",
      "metadata": {
        "id": "1cca203a"
      },
      "outputs": [],
      "source": [
        "try:\n",
        "    result = 10 / 0\n",
        "except ZeroDivisionError:\n",
        "    print(\"Cannot divide by zero!\")\n",
        "finally:\n",
        "    print(\"Execution complete.\")"
      ]
    },
    {
      "cell_type": "markdown",
      "id": "a84a7c9e",
      "metadata": {
        "id": "a84a7c9e"
      },
      "source": [
        "## 9. Modules and Libraries\n",
        "Importing and using Python modules."
      ]
    },
    {
      "cell_type": "code",
      "execution_count": null,
      "id": "e1984ec9",
      "metadata": {
        "id": "e1984ec9"
      },
      "outputs": [],
      "source": [
        "import math\n",
        "\n",
        "print(\"Square root of 16:\", math.sqrt(16))"
      ]
    },
    {
      "cell_type": "markdown",
      "id": "33540791",
      "metadata": {
        "id": "33540791"
      },
      "source": [
        "## 10. List Comprehensions\n",
        "A concise way to create lists."
      ]
    },
    {
      "cell_type": "code",
      "execution_count": null,
      "id": "6e6fe3b4",
      "metadata": {
        "id": "6e6fe3b4"
      },
      "outputs": [],
      "source": [
        "squares = [x**2 for x in range(10)]\n",
        "print(\"Squares:\", squares)"
      ]
    },
    {
      "cell_type": "markdown",
      "id": "7968140d",
      "metadata": {
        "id": "7968140d"
      },
      "source": [
        "## Conclusion\n",
        "This notebook covered some basic Python concepts. Practice these examples and explore more!"
      ]
    }
  ],
  "metadata": {
    "jupytext": {
      "cell_metadata_filter": "-all",
      "main_language": "python",
      "notebook_metadata_filter": "-all"
    },
    "language_info": {
      "name": "python"
    },
    "colab": {
      "provenance": [],
      "include_colab_link": true
    }
  },
  "nbformat": 4,
  "nbformat_minor": 5
}