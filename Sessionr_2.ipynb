{
  "cells": [
    {
      "cell_type": "markdown",
      "metadata": {
        "id": "view-in-github",
        "colab_type": "text"
      },
      "source": [
        "<a href=\"https://colab.research.google.com/github/singaravelan/python_tutorials/blob/main/Sessionr_2.ipynb\" target=\"_parent\"><img src=\"https://colab.research.google.com/assets/colab-badge.svg\" alt=\"Open In Colab\"/></a>"
      ]
    },
    {
      "cell_type": "markdown",
      "id": "4409ab07",
      "metadata": {
        "id": "4409ab07"
      },
      "source": [
        "## Introduction to NumPy"
      ]
    },
    {
      "cell_type": "markdown",
      "id": "e36a71dc",
      "metadata": {
        "id": "e36a71dc"
      },
      "source": [
        "### NumPy Standard Data Types"
      ]
    },
    {
      "cell_type": "code",
      "execution_count": null,
      "id": "00a1fe11",
      "metadata": {
        "id": "00a1fe11"
      },
      "outputs": [],
      "source": [
        "import numpy as np"
      ]
    },
    {
      "cell_type": "code",
      "execution_count": null,
      "id": "c1d50ec4",
      "metadata": {
        "id": "c1d50ec4"
      },
      "outputs": [],
      "source": [
        "# Integer data type\n",
        "int_array = np.array([1, 2, 3], dtype=np.int32)\n",
        "print(int_array.dtype)"
      ]
    },
    {
      "cell_type": "code",
      "execution_count": null,
      "id": "78de6e9e",
      "metadata": {
        "lines_to_next_cell": 2,
        "id": "78de6e9e"
      },
      "outputs": [],
      "source": [
        "# Float data type\n",
        "float_array = np.array([1.0, 2.0, 3.0], dtype=np.float64)\n",
        "print(float_array.dtype)"
      ]
    },
    {
      "cell_type": "markdown",
      "id": "b88e5782",
      "metadata": {
        "id": "b88e5782"
      },
      "source": [
        "### Basics of NumPy Arrays"
      ]
    },
    {
      "cell_type": "code",
      "execution_count": null,
      "id": "b88003f2",
      "metadata": {
        "lines_to_next_cell": 2,
        "id": "b88003f2"
      },
      "outputs": [],
      "source": [
        "arr = np.array([[1, 2, 3], [4, 5, 6]])\n",
        "print(arr.shape)\n",
        "print(arr.ndim)\n",
        "print(arr.size)"
      ]
    },
    {
      "cell_type": "markdown",
      "id": "fd7295ee",
      "metadata": {
        "id": "fd7295ee"
      },
      "source": [
        "### Aggregations"
      ]
    },
    {
      "cell_type": "code",
      "execution_count": null,
      "id": "727587fa",
      "metadata": {
        "lines_to_next_cell": 2,
        "id": "727587fa"
      },
      "outputs": [],
      "source": [
        "arr = np.array([1, 2, 3, 4, 5])\n",
        "print(arr.sum())\n",
        "print(arr.mean())\n",
        "print(arr.std())"
      ]
    },
    {
      "cell_type": "markdown",
      "id": "18d402b8",
      "metadata": {
        "id": "18d402b8"
      },
      "source": [
        "## Data Manipulation with Pandas"
      ]
    },
    {
      "cell_type": "markdown",
      "id": "d8391677",
      "metadata": {
        "id": "d8391677"
      },
      "source": [
        "### Introduction to Pandas"
      ]
    },
    {
      "cell_type": "code",
      "execution_count": null,
      "id": "538b76fc",
      "metadata": {
        "id": "538b76fc"
      },
      "outputs": [],
      "source": [
        "import pandas as pd"
      ]
    },
    {
      "cell_type": "code",
      "execution_count": null,
      "id": "49aa489c",
      "metadata": {
        "lines_to_next_cell": 2,
        "id": "49aa489c"
      },
      "outputs": [],
      "source": [
        "data = {'A': [1, 2, 3], 'B': [4, 5, 6]}\n",
        "df = pd.DataFrame(data)\n",
        "print(df)"
      ]
    },
    {
      "cell_type": "markdown",
      "id": "18bd2220",
      "metadata": {
        "id": "18bd2220"
      },
      "source": [
        "### Data Indexing and Selection"
      ]
    },
    {
      "cell_type": "code",
      "execution_count": null,
      "id": "827d5b8b",
      "metadata": {
        "lines_to_next_cell": 2,
        "id": "827d5b8b"
      },
      "outputs": [],
      "source": [
        "print(df['A'])  # Selecting a column\n",
        "print(df.loc[1])  # Selecting a row\n",
        "print(df.iloc[0, 1])  # Selecting a specific element"
      ]
    },
    {
      "cell_type": "markdown",
      "id": "733dcff8",
      "metadata": {
        "id": "733dcff8"
      },
      "source": [
        "### Operating on Data"
      ]
    },
    {
      "cell_type": "code",
      "execution_count": null,
      "id": "f1def1ca",
      "metadata": {
        "id": "f1def1ca"
      },
      "outputs": [],
      "source": [
        "# Creating a sample DataFrame\n",
        "data = {'A': [1, 2, 3], 'B': [4, 5, np.nan]}\n",
        "df = pd.DataFrame(data)"
      ]
    },
    {
      "cell_type": "code",
      "execution_count": null,
      "id": "6b707b42",
      "metadata": {
        "id": "6b707b42"
      },
      "outputs": [],
      "source": [
        "# fillna example\n",
        "df.fillna(0, inplace=True)\n",
        "print(df)"
      ]
    },
    {
      "cell_type": "code",
      "execution_count": null,
      "id": "b8cf15b4",
      "metadata": {
        "id": "b8cf15b4"
      },
      "outputs": [],
      "source": [
        "# apply example\n",
        "df['A_squared'] = df['A'].apply(lambda x: x ** 2)\n",
        "print(df)"
      ]
    },
    {
      "cell_type": "markdown",
      "id": "13afdcc3",
      "metadata": {
        "id": "13afdcc3"
      },
      "source": [
        "### Group By and Rolling"
      ]
    },
    {
      "cell_type": "code",
      "execution_count": null,
      "id": "08bbc789",
      "metadata": {
        "id": "08bbc789"
      },
      "outputs": [],
      "source": [
        "# Creating a sales DataFrame\n",
        "sales_data = {'Date': pd.date_range(start='2023-01-01', periods=6, freq='D'),\n",
        "              'Store': ['A', 'A', 'B', 'B', 'A', 'B'],\n",
        "              'Sales': [100, 200, 150, 300, 250, 400]}\n",
        "sales_df = pd.DataFrame(sales_data)"
      ]
    },
    {
      "cell_type": "code",
      "execution_count": null,
      "id": "6ab9a71f",
      "metadata": {
        "id": "6ab9a71f"
      },
      "outputs": [],
      "source": [
        "# Group by Store and calculate mean sales\n",
        "store_sales = sales_df.groupby('Store')['Sales'].mean()\n",
        "print(store_sales)"
      ]
    },
    {
      "cell_type": "code",
      "execution_count": null,
      "id": "791ce33f",
      "metadata": {
        "lines_to_next_cell": 2,
        "id": "791ce33f"
      },
      "outputs": [],
      "source": [
        "# Rolling window example\n",
        "sales_df['Rolling_Avg'] = sales_df['Sales'].rolling(window=2).mean()\n",
        "print(sales_df)"
      ]
    },
    {
      "cell_type": "markdown",
      "id": "bb7b44eb",
      "metadata": {
        "id": "bb7b44eb"
      },
      "source": [
        "## Visualization with Matplotlib"
      ]
    },
    {
      "cell_type": "markdown",
      "id": "808813a8",
      "metadata": {
        "id": "808813a8"
      },
      "source": [
        "### Introduction to Matplotlib"
      ]
    },
    {
      "cell_type": "code",
      "execution_count": null,
      "id": "0687421a",
      "metadata": {
        "id": "0687421a"
      },
      "outputs": [],
      "source": [
        "import matplotlib.pyplot as plt"
      ]
    },
    {
      "cell_type": "code",
      "execution_count": null,
      "id": "c1c3751c",
      "metadata": {
        "lines_to_next_cell": 2,
        "id": "c1c3751c"
      },
      "outputs": [],
      "source": [
        "t = [0, 1, 2, 3, 4]\n",
        "s = [0, 1, 4, 9, 16]\n",
        "plt.plot(t, s)\n",
        "plt.show()"
      ]
    },
    {
      "cell_type": "markdown",
      "id": "43949adb",
      "metadata": {
        "id": "43949adb"
      },
      "source": [
        "### Simple Line Plots"
      ]
    },
    {
      "cell_type": "code",
      "execution_count": null,
      "id": "732c6e79",
      "metadata": {
        "lines_to_next_cell": 2,
        "id": "732c6e79"
      },
      "outputs": [],
      "source": [
        "plt.plot(t, s, marker='o', linestyle='-')\n",
        "plt.xlabel('Time')\n",
        "plt.ylabel('Value')\n",
        "plt.title('Simple Line Plot')\n",
        "plt.show()"
      ]
    },
    {
      "cell_type": "markdown",
      "id": "4f044654",
      "metadata": {
        "id": "4f044654"
      },
      "source": [
        "### Simple Scatter Plots"
      ]
    },
    {
      "cell_type": "code",
      "execution_count": null,
      "id": "5dcdf436",
      "metadata": {
        "lines_to_next_cell": 2,
        "id": "5dcdf436"
      },
      "outputs": [],
      "source": [
        "plt.scatter(t, s)\n",
        "plt.xlabel('Time')\n",
        "plt.ylabel('Value')\n",
        "plt.title('Simple Scatter Plot')\n",
        "plt.show()"
      ]
    },
    {
      "cell_type": "markdown",
      "id": "c157257d",
      "metadata": {
        "id": "c157257d"
      },
      "source": [
        "### Histogram"
      ]
    },
    {
      "cell_type": "code",
      "execution_count": null,
      "id": "b80a2b3d",
      "metadata": {
        "id": "b80a2b3d"
      },
      "outputs": [],
      "source": [
        "data = np.random.randn(1000)\n",
        "plt.hist(data, bins=30, edgecolor='black')\n",
        "plt.xlabel('Value')\n",
        "plt.ylabel('Frequency')\n",
        "plt.title('Histogram')\n",
        "plt.show()"
      ]
    }
  ],
  "metadata": {
    "jupytext": {
      "cell_metadata_filter": "-all",
      "main_language": "python",
      "notebook_metadata_filter": "-all"
    },
    "colab": {
      "provenance": [],
      "include_colab_link": true
    }
  },
  "nbformat": 4,
  "nbformat_minor": 5
}